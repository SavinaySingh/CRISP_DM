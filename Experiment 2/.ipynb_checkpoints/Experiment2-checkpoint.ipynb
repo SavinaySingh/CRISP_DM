{
 "cells": [
  {
   "cell_type": "markdown",
   "id": "df4f2643-9fd3-4c3f-a3be-f454eac3a781",
   "metadata": {
    "tags": []
   },
   "source": [
    "<h1 style=\"text-align: center\"> Assignment 2 Part B: Analysis of top features used to predict the likelihood of an existing customer buying a new car </h1>"
   ]
  },
  {
   "cell_type": "markdown",
   "id": "6264e28a-74ef-4cef-8c9d-3823f5d2f588",
   "metadata": {
    "tags": []
   },
   "source": [
    "### Savinay Singh \n",
    "### Student ID: <b><u>24591935</u></b>\n",
    "### 27 April 2023"
   ]
  },
  {
   "cell_type": "markdown",
   "id": "b488d152-b12d-4228-a8f5-f46554ff3a32",
   "metadata": {},
   "source": [
    "\n",
    "<p style=\"font-size:18px;\">Table of Content\n",
    "<ol>\n",
    "    <li>Importing the libraries</li>\n",
    "    <li>Importing the dataset</li>\n",
    "    <ul>\n",
    "        <li>About the dataset</li>\n",
    "    </ul>\n",
    "     <li>Data Preprocessing</li>\n",
    "    <ul>\n",
    "        <li>Handling the missing data</li>\n",
    "        <li>Label Encoding</li>\n",
    "    </ul>\n",
    "    <li>Feature Selection</li>\n",
    "    <li>Intitial Data Visualisation</li>\n",
    "    <li>Train Test Split</li>\n",
    "    <li>Handling Class Imbalance</li>\n",
    "    <li>Final Data Visualisation</li>\n",
    "    <li>Feature Scaling</li>\n",
    "    <li>Modelling and Evaluation</li>\n",
    "  \n",
    "   \n",
    "</ol>\n",
    "</p>"
   ]
  },
  {
   "cell_type": "markdown",
   "id": "681bdec3-399f-4376-9487-2ef844e11d93",
   "metadata": {
    "tags": []
   },
   "source": [
    "# 1. Importing the libraries"
   ]
  },
  {
   "cell_type": "markdown",
   "id": "a99c876c-2ba3-428e-a268-8a977b8d6d01",
   "metadata": {},
   "source": [
    "<p style=\"font-size:18px;\">\n",
    "    To utilise the pre-written code and functionality the libraries given below are imported. \n",
    "</p>"
   ]
  },
  {
   "cell_type": "code",
   "execution_count": 72,
   "id": "e1c8189d-97ea-4358-b009-1f587915f812",
   "metadata": {},
   "outputs": [],
   "source": [
    "import pandas as pd\n",
    "import matplotlib.pyplot as plt\n",
    "import seaborn as sns\n",
    "from sklearn.model_selection import train_test_split \n",
    "from imblearn.over_sampling import SMOTE \n",
    "from sklearn.linear_model import LogisticRegression\n",
    "from sklearn.metrics import accuracy_score\n",
    "from sklearn import preprocessing\n",
    "from sklearn.preprocessing import LabelEncoder\n",
    "import numpy as np\n",
    "from sklearn.metrics import classification_report\n",
    "from sklearn.feature_selection import SelectKBest\n",
    "from sklearn.feature_selection import chi2\n",
    "from scipy.stats import chi2_contingency\n",
    "import statsmodels.api as sms"
   ]
  },
  {
   "cell_type": "markdown",
   "id": "6abd69e8-7905-437e-b112-28074ddb5d36",
   "metadata": {
    "tags": []
   },
   "source": [
    "# 2. Importing the dataset"
   ]
  },
  {
   "cell_type": "code",
   "execution_count": 4,
   "id": "425b6a9b-214c-4b30-935f-7ddf5eb14edf",
   "metadata": {},
   "outputs": [],
   "source": [
    "df=pd.read_csv('./repurchase_training.csv')"
   ]
  },
  {
   "cell_type": "markdown",
   "id": "04617967-e099-4933-8dff-0d949e4e4fe8",
   "metadata": {
    "tags": []
   },
   "source": [
    "## 2.1. About the dataset"
   ]
  },
  {
   "cell_type": "code",
   "execution_count": 5,
   "id": "05f422dd-60fa-408f-b4a1-e972493be3ef",
   "metadata": {},
   "outputs": [],
   "source": [
    "str_about_data='''ID: Unique ID of the customer\n",
    "\n",
    "target: Model target. 1 if the customer has purchased more than 1 vehicle, 0 if they have only purchased 1.\n",
    "\n",
    "age_band: Age banded into categories\n",
    "\n",
    "gender: Male, Female or Missing\n",
    "\n",
    "car_model: The model of vehicle, 18 models in total\n",
    "\n",
    "car_segment: The type of vehicle\n",
    "\n",
    "age_of_vehicle_years: Age of their last vehicle, in deciles\n",
    "\n",
    "sched_serv_warr: Number of scheduled services (e.g. regular check-ups) used under warranty, in deciles\n",
    "\n",
    "non_sched_serv_warr: Number of non-scheduled services (e.g. something broke out of the service cycle) used under warranty, in deciles\n",
    "\n",
    "sched_serv_paid: Amount paid for scheduled services, in deciles\n",
    "\n",
    "non_sched_serv_paid: Amount paid for non scheduled services, in deciles\n",
    "\n",
    "total_paid_services: Amount paid in total for services, in deciles\n",
    "\n",
    "total_services: Total number of services, in deciles\n",
    "\n",
    "mth_since_last_serv: The number of months since the last service, in deciles\n",
    "\n",
    "annualised_mileage: Annualised vehicle mileage, in deciles\n",
    "\n",
    "num_dealers_visited: Number of different dealers visited for servicing, in deciles\n",
    "\n",
    "num_serv_dealer_purchased: Number of services had at the same dealer where the vehicle was purchased, in deciles'''"
   ]
  },
  {
   "cell_type": "code",
   "execution_count": 6,
   "id": "e677587c-3f17-4300-9e27-b601b26e4697",
   "metadata": {},
   "outputs": [],
   "source": [
    "dict_about_data=dict(zip([x.split(':')[0] for x in str_about_data.split('\\n\\n')],[x.split(':')[1] for x in str_about_data.split('\\n\\n')]))"
   ]
  },
  {
   "cell_type": "code",
   "execution_count": 7,
   "id": "b09b42c8-8853-4e8a-9291-786ec1ebf0eb",
   "metadata": {},
   "outputs": [
    {
     "data": {
      "text/plain": [
       "{'ID': ' Unique ID of the customer',\n",
       " 'target': ' Model target. 1 if the customer has purchased more than 1 vehicle, 0 if they have only purchased 1.',\n",
       " 'age_band': ' Age banded into categories',\n",
       " 'gender': ' Male, Female or Missing',\n",
       " 'car_model': ' The model of vehicle, 18 models in total',\n",
       " 'car_segment': ' The type of vehicle',\n",
       " 'age_of_vehicle_years': ' Age of their last vehicle, in deciles',\n",
       " 'sched_serv_warr': ' Number of scheduled services (e.g. regular check-ups) used under warranty, in deciles',\n",
       " 'non_sched_serv_warr': ' Number of non-scheduled services (e.g. something broke out of the service cycle) used under warranty, in deciles',\n",
       " 'sched_serv_paid': ' Amount paid for scheduled services, in deciles',\n",
       " 'non_sched_serv_paid': ' Amount paid for non scheduled services, in deciles',\n",
       " 'total_paid_services': ' Amount paid in total for services, in deciles',\n",
       " 'total_services': ' Total number of services, in deciles',\n",
       " 'mth_since_last_serv': ' The number of months since the last service, in deciles',\n",
       " 'annualised_mileage': ' Annualised vehicle mileage, in deciles',\n",
       " 'num_dealers_visited': ' Number of different dealers visited for servicing, in deciles',\n",
       " 'num_serv_dealer_purchased': ' Number of services had at the same dealer where the vehicle was purchased, in deciles'}"
      ]
     },
     "execution_count": 7,
     "metadata": {},
     "output_type": "execute_result"
    }
   ],
   "source": [
    "dict_about_data"
   ]
  },
  {
   "cell_type": "code",
   "execution_count": 8,
   "id": "42e7fbef-b627-4a2e-b407-4a936cd618f9",
   "metadata": {},
   "outputs": [
    {
     "data": {
      "text/html": [
       "<div>\n",
       "<style scoped>\n",
       "    .dataframe tbody tr th:only-of-type {\n",
       "        vertical-align: middle;\n",
       "    }\n",
       "\n",
       "    .dataframe tbody tr th {\n",
       "        vertical-align: top;\n",
       "    }\n",
       "\n",
       "    .dataframe thead th {\n",
       "        text-align: right;\n",
       "    }\n",
       "</style>\n",
       "<table border=\"1\" class=\"dataframe\">\n",
       "  <thead>\n",
       "    <tr style=\"text-align: right;\">\n",
       "      <th></th>\n",
       "      <th>0</th>\n",
       "    </tr>\n",
       "  </thead>\n",
       "  <tbody>\n",
       "    <tr>\n",
       "      <th>ID</th>\n",
       "      <td>Unique ID of the customer</td>\n",
       "    </tr>\n",
       "    <tr>\n",
       "      <th>target</th>\n",
       "      <td>Model target. 1 if the customer has purchased...</td>\n",
       "    </tr>\n",
       "    <tr>\n",
       "      <th>age_band</th>\n",
       "      <td>Age banded into categories</td>\n",
       "    </tr>\n",
       "    <tr>\n",
       "      <th>gender</th>\n",
       "      <td>Male, Female or Missing</td>\n",
       "    </tr>\n",
       "    <tr>\n",
       "      <th>car_model</th>\n",
       "      <td>The model of vehicle, 18 models in total</td>\n",
       "    </tr>\n",
       "    <tr>\n",
       "      <th>car_segment</th>\n",
       "      <td>The type of vehicle</td>\n",
       "    </tr>\n",
       "    <tr>\n",
       "      <th>age_of_vehicle_years</th>\n",
       "      <td>Age of their last vehicle, in deciles</td>\n",
       "    </tr>\n",
       "    <tr>\n",
       "      <th>sched_serv_warr</th>\n",
       "      <td>Number of scheduled services (e.g. regular ch...</td>\n",
       "    </tr>\n",
       "    <tr>\n",
       "      <th>non_sched_serv_warr</th>\n",
       "      <td>Number of non-scheduled services (e.g. someth...</td>\n",
       "    </tr>\n",
       "    <tr>\n",
       "      <th>sched_serv_paid</th>\n",
       "      <td>Amount paid for scheduled services, in deciles</td>\n",
       "    </tr>\n",
       "    <tr>\n",
       "      <th>non_sched_serv_paid</th>\n",
       "      <td>Amount paid for non scheduled services, in de...</td>\n",
       "    </tr>\n",
       "    <tr>\n",
       "      <th>total_paid_services</th>\n",
       "      <td>Amount paid in total for services, in deciles</td>\n",
       "    </tr>\n",
       "    <tr>\n",
       "      <th>total_services</th>\n",
       "      <td>Total number of services, in deciles</td>\n",
       "    </tr>\n",
       "    <tr>\n",
       "      <th>mth_since_last_serv</th>\n",
       "      <td>The number of months since the last service, ...</td>\n",
       "    </tr>\n",
       "    <tr>\n",
       "      <th>annualised_mileage</th>\n",
       "      <td>Annualised vehicle mileage, in deciles</td>\n",
       "    </tr>\n",
       "    <tr>\n",
       "      <th>num_dealers_visited</th>\n",
       "      <td>Number of different dealers visited for servi...</td>\n",
       "    </tr>\n",
       "    <tr>\n",
       "      <th>num_serv_dealer_purchased</th>\n",
       "      <td>Number of services had at the same dealer whe...</td>\n",
       "    </tr>\n",
       "  </tbody>\n",
       "</table>\n",
       "</div>"
      ],
      "text/plain": [
       "                                                                           0\n",
       "ID                                                 Unique ID of the customer\n",
       "target                      Model target. 1 if the customer has purchased...\n",
       "age_band                                          Age banded into categories\n",
       "gender                                               Male, Female or Missing\n",
       "car_model                           The model of vehicle, 18 models in total\n",
       "car_segment                                              The type of vehicle\n",
       "age_of_vehicle_years                   Age of their last vehicle, in deciles\n",
       "sched_serv_warr             Number of scheduled services (e.g. regular ch...\n",
       "non_sched_serv_warr         Number of non-scheduled services (e.g. someth...\n",
       "sched_serv_paid               Amount paid for scheduled services, in deciles\n",
       "non_sched_serv_paid         Amount paid for non scheduled services, in de...\n",
       "total_paid_services            Amount paid in total for services, in deciles\n",
       "total_services                          Total number of services, in deciles\n",
       "mth_since_last_serv         The number of months since the last service, ...\n",
       "annualised_mileage                    Annualised vehicle mileage, in deciles\n",
       "num_dealers_visited         Number of different dealers visited for servi...\n",
       "num_serv_dealer_purchased   Number of services had at the same dealer whe..."
      ]
     },
     "execution_count": 8,
     "metadata": {},
     "output_type": "execute_result"
    }
   ],
   "source": [
    "pd.DataFrame.from_dict(dict_about_data,orient='index')"
   ]
  },
  {
   "cell_type": "markdown",
   "id": "8268eb3d-c606-43ca-9330-26f83da2c0ad",
   "metadata": {
    "jp-MarkdownHeadingCollapsed": true,
    "tags": []
   },
   "source": [
    "<pre style=\"font-size:18px;\">\n",
    "    <h2>Data Privacy Risks</h2>\n",
    "    Repurchase data can be utilised for targeted marketing initiatives, which some customers may find intrusive or unwanted. Customers' privacy may have been violated if their information was utilised for marketing without their explicit permission.\n",
    "    \n",
    "    Thre is no mention of any sensitive information such as vehicle identification number (VIN) or Personal Identifiable Information (PII) in the dataset\n",
    "</pre>"
   ]
  },
  {
   "cell_type": "markdown",
   "id": "53f43c33-c6b6-4286-a580-a312d601e6b4",
   "metadata": {
    "tags": []
   },
   "source": [
    "# 3. Data-Preprocessing"
   ]
  },
  {
   "cell_type": "markdown",
   "id": "9c16226d-7c09-4134-8dd8-e1e6a18e6aff",
   "metadata": {
    "tags": []
   },
   "source": [
    "## 3.1. Handling the missing data"
   ]
  },
  {
   "cell_type": "code",
   "execution_count": 9,
   "id": "dc8b7590-8a41-490a-8a75-760203e0652f",
   "metadata": {},
   "outputs": [
    {
     "data": {
      "text/plain": [
       "ID                                0\n",
       "Target                            0\n",
       "age_band                     112375\n",
       "gender                        69308\n",
       "car_model                         0\n",
       "car_segment                       0\n",
       "age_of_vehicle_years              0\n",
       "sched_serv_warr                   0\n",
       "non_sched_serv_warr               0\n",
       "sched_serv_paid                   0\n",
       "non_sched_serv_paid               0\n",
       "total_paid_services               0\n",
       "total_services                    0\n",
       "mth_since_last_serv               0\n",
       "annualised_mileage                0\n",
       "num_dealers_visited               0\n",
       "num_serv_dealer_purchased         0\n",
       "dtype: int64"
      ]
     },
     "execution_count": 9,
     "metadata": {},
     "output_type": "execute_result"
    }
   ],
   "source": [
    "df.isna().sum()"
   ]
  },
  {
   "cell_type": "markdown",
   "id": "553dbe63-841f-4fd0-a33d-4829aa38bcdd",
   "metadata": {},
   "source": [
    "<p style=\"font-size:18px;\">\n",
    "    The bar chart below shows the missig values for age band and gender\n",
    "</p>"
   ]
  },
  {
   "cell_type": "code",
   "execution_count": 10,
   "id": "235b5ba2-1383-4f8a-b486-1ed5e09e8969",
   "metadata": {},
   "outputs": [
    {
     "data": {
      "text/plain": [
       "<BarContainer object of 17 artists>"
      ]
     },
     "execution_count": 10,
     "metadata": {},
     "output_type": "execute_result"
    },
    {
     "data": {
      "image/png": "[encoded data removed]",
      "text/plain": [
       "<Figure size 640x480 with 1 Axes>"
      ]
     },
     "metadata": {},
     "output_type": "display_data"
    }
   ],
   "source": [
    "plt.xticks(rotation=90)\n",
    "plt.xlabel('Features')\n",
    "plt.ylabel('Number of missing values')\n",
    "plt.title('Missing Value Plot')\n",
    "plt.bar(df.isna().sum().index,df.isna().sum().values)"
   ]
  },
  {
   "cell_type": "markdown",
   "id": "26f996dc-831b-462a-9030-d84c23d558eb",
   "metadata": {},
   "source": [
    "<p style=\"font-size:18px;\">\n",
    "    Removal of ID because it is a redundant feature\n",
    "</p>"
   ]
  },
  {
   "cell_type": "code",
   "execution_count": 11,
   "id": "9374fcfd-0835-40f0-b0be-1378ee018592",
   "metadata": {},
   "outputs": [],
   "source": [
    "# Removal of ID because it is a redundant feature\n",
    "df=df.drop('ID',axis=1)"
   ]
  },
  {
   "cell_type": "markdown",
   "id": "5c5ebfdf-9961-4c9a-b09b-f5e038dc5e48",
   "metadata": {},
   "source": [
    "<p style=\"font-size:18px;\">\n",
    "    Checking the distribution of gender to search for a pattern\n",
    "</p>"
   ]
  },
  {
   "cell_type": "code",
   "execution_count": 12,
   "id": "58245d79-bfc9-4e85-902d-777468be2e8a",
   "metadata": {},
   "outputs": [
    {
     "data": {
      "text/plain": [
       "Male      36072\n",
       "Female    25957\n",
       "Name: gender, dtype: int64"
      ]
     },
     "execution_count": 12,
     "metadata": {},
     "output_type": "execute_result"
    }
   ],
   "source": [
    "df.gender.value_counts()"
   ]
  },
  {
   "cell_type": "code",
   "execution_count": 15,
   "id": "a79b9176-c960-48b2-a265-d6f4f9fb3f0a",
   "metadata": {},
   "outputs": [
    {
     "data": {
      "image/png": "[encoded data removed]",
      "text/plain": [
       "<Figure size 640x480 with 1 Axes>"
      ]
     },
     "metadata": {},
     "output_type": "display_data"
    }
   ],
   "source": [
    "plt.pie(df.gender.value_counts(),labels=['Male','Female'])\n",
    "plt.show()"
   ]
  },
  {
   "cell_type": "code",
   "execution_count": 13,
   "id": "5de4a12b-0f16-421c-9caa-dcd6e0fe8609",
   "metadata": {},
   "outputs": [
    {
     "data": {
      "text/plain": [
       "Male      35115\n",
       "Female    25570\n",
       "Name: gender, dtype: int64"
      ]
     },
     "execution_count": 13,
     "metadata": {},
     "output_type": "execute_result"
    }
   ],
   "source": [
    "df[df.Target==0].gender.value_counts()"
   ]
  },
  {
   "cell_type": "code",
   "execution_count": 14,
   "id": "49754de6-9994-44c3-8577-f6515751d8ce",
   "metadata": {},
   "outputs": [
    {
     "data": {
      "text/plain": [
       "Male      957\n",
       "Female    387\n",
       "Name: gender, dtype: int64"
      ]
     },
     "execution_count": 14,
     "metadata": {},
     "output_type": "execute_result"
    }
   ],
   "source": [
    "df[df.Target==1].gender.value_counts()"
   ]
  },
  {
   "cell_type": "markdown",
   "id": "0dc2f4e4-8d2b-4780-95f3-9861faefdac8",
   "metadata": {},
   "source": [
    "<p style=\"font-size:18px;\">\n",
    "    Gender needs to be handled as not stated\n",
    "</p>"
   ]
  },
  {
   "cell_type": "code",
   "execution_count": 17,
   "id": "1a3a0692-5033-4cb9-b9e2-43b0a6de5c8f",
   "metadata": {},
   "outputs": [],
   "source": [
    "df.loc[df.gender.isna(),'gender']='Not Stated'"
   ]
  },
  {
   "cell_type": "code",
   "execution_count": 18,
   "id": "c6440d45-e97b-47db-915c-341d01d8d5cf",
   "metadata": {},
   "outputs": [
    {
     "data": {
      "image/png": "[encoded data removed]",
      "text/plain": [
       "<Figure size 640x480 with 1 Axes>"
      ]
     },
     "metadata": {},
     "output_type": "display_data"
    }
   ],
   "source": [
    "plt.pie(df.gender.value_counts(),labels=['Male','Female','Not Stated'])\n",
    "plt.show()"
   ]
  },
  {
   "cell_type": "markdown",
   "id": "4a7d9e93-bc47-4c7a-878e-a292f4b90357",
   "metadata": {},
   "source": [
    "<p style=\"font-size:18px;\">\n",
    "    Checking the distribution of age band to search for a pattern\n",
    "</p>"
   ]
  },
  {
   "cell_type": "code",
   "execution_count": 19,
   "id": "8c7cf915-6739-4f08-ab68-e265d355f828",
   "metadata": {},
   "outputs": [
    {
     "data": {
      "text/plain": [
       "4. 45 to 54    0.214007\n",
       "3. 35 to 44    0.202141\n",
       "2. 25 to 34    0.187111\n",
       "5. 55 to 64    0.179148\n",
       "6. 65 to 74    0.112857\n",
       "7. 75+         0.053739\n",
       "1. <25         0.050997\n",
       "Name: age_band, dtype: float64"
      ]
     },
     "execution_count": 19,
     "metadata": {},
     "output_type": "execute_result"
    }
   ],
   "source": [
    "df.age_band.value_counts(1)"
   ]
  },
  {
   "cell_type": "code",
   "execution_count": 20,
   "id": "ccf72975-214c-4c47-8288-18af27baaa95",
   "metadata": {},
   "outputs": [
    {
     "data": {
      "text/plain": [
       "4. 45 to 54    0.213580\n",
       "3. 35 to 44    0.202157\n",
       "2. 25 to 34    0.187637\n",
       "5. 55 to 64    0.178348\n",
       "6. 65 to 74    0.113116\n",
       "7. 75+         0.053755\n",
       "1. <25         0.051407\n",
       "Name: age_band, dtype: float64"
      ]
     },
     "execution_count": 20,
     "metadata": {},
     "output_type": "execute_result"
    }
   ],
   "source": [
    "df[df.Target==0].age_band.value_counts(1)"
   ]
  },
  {
   "cell_type": "code",
   "execution_count": 21,
   "id": "71c00570-450d-4ad2-a178-edf7c9b46613",
   "metadata": {},
   "outputs": [
    {
     "data": {
      "text/plain": [
       "4. 45 to 54    0.248908\n",
       "5. 55 to 64    0.244541\n",
       "3. 35 to 44    0.200873\n",
       "2. 25 to 34    0.144105\n",
       "6. 65 to 74    0.091703\n",
       "7. 75+         0.052402\n",
       "1. <25         0.017467\n",
       "Name: age_band, dtype: float64"
      ]
     },
     "execution_count": 21,
     "metadata": {},
     "output_type": "execute_result"
    }
   ],
   "source": [
    "df[df.Target==1].age_band.value_counts(1)"
   ]
  },
  {
   "cell_type": "code",
   "execution_count": 22,
   "id": "bc4eb269-6a46-4b33-8dcb-aaed4bd10067",
   "metadata": {},
   "outputs": [
    {
     "data": {
      "text/plain": [
       "0.8556233201611122"
      ]
     },
     "execution_count": 22,
     "metadata": {},
     "output_type": "execute_result"
    }
   ],
   "source": [
    "len(df[df.age_band.isna()])/len(df)"
   ]
  },
  {
   "cell_type": "markdown",
   "id": "e955ea87-1dfe-4eeb-99bf-32194a299684",
   "metadata": {},
   "source": [
    "<p style=\"font-size:18px;\">\n",
    "    Removing age band because it has more than 85% of the missing values\n",
    "</p>"
   ]
  },
  {
   "cell_type": "code",
   "execution_count": 23,
   "id": "d7caa14c-087c-4a0d-b41c-bafc150b00d6",
   "metadata": {},
   "outputs": [],
   "source": [
    "df=df.drop('age_band',axis=1)"
   ]
  },
  {
   "cell_type": "markdown",
   "id": "d046902a-60f8-432c-b4d6-d19e71e5af95",
   "metadata": {
    "tags": []
   },
   "source": [
    "## 3.2. Label Encoding"
   ]
  },
  {
   "cell_type": "code",
   "execution_count": 24,
   "id": "9e7de22d-d80b-4660-baa4-158b6c461995",
   "metadata": {},
   "outputs": [],
   "source": [
    "labelencoder = LabelEncoder()\n",
    "df['gender']=labelencoder.fit_transform(df['gender'])\n",
    "df['car_model']=labelencoder.fit_transform(df['car_model'])\n",
    "df['car_segment']=labelencoder.fit_transform(df['car_segment'])"
   ]
  },
  {
   "cell_type": "code",
   "execution_count": 25,
   "id": "33763f2f-e98d-4d5c-bdab-dbb07dce10f4",
   "metadata": {},
   "outputs": [
    {
     "data": {
      "text/html": [
       "<div>\n",
       "<style scoped>\n",
       "    .dataframe tbody tr th:only-of-type {\n",
       "        vertical-align: middle;\n",
       "    }\n",
       "\n",
       "    .dataframe tbody tr th {\n",
       "        vertical-align: top;\n",
       "    }\n",
       "\n",
       "    .dataframe thead th {\n",
       "        text-align: right;\n",
       "    }\n",
       "</style>\n",
       "<table border=\"1\" class=\"dataframe\">\n",
       "  <thead>\n",
       "    <tr style=\"text-align: right;\">\n",
       "      <th></th>\n",
       "      <th>Target</th>\n",
       "      <th>gender</th>\n",
       "      <th>car_model</th>\n",
       "      <th>car_segment</th>\n",
       "      <th>age_of_vehicle_years</th>\n",
       "      <th>sched_serv_warr</th>\n",
       "      <th>non_sched_serv_warr</th>\n",
       "      <th>sched_serv_paid</th>\n",
       "      <th>non_sched_serv_paid</th>\n",
       "      <th>total_paid_services</th>\n",
       "      <th>total_services</th>\n",
       "      <th>mth_since_last_serv</th>\n",
       "      <th>annualised_mileage</th>\n",
       "      <th>num_dealers_visited</th>\n",
       "      <th>num_serv_dealer_purchased</th>\n",
       "    </tr>\n",
       "  </thead>\n",
       "  <tbody>\n",
       "    <tr>\n",
       "      <th>0</th>\n",
       "      <td>0</td>\n",
       "      <td>1</td>\n",
       "      <td>0</td>\n",
       "      <td>0</td>\n",
       "      <td>9</td>\n",
       "      <td>2</td>\n",
       "      <td>10</td>\n",
       "      <td>3</td>\n",
       "      <td>7</td>\n",
       "      <td>5</td>\n",
       "      <td>6</td>\n",
       "      <td>9</td>\n",
       "      <td>8</td>\n",
       "      <td>10</td>\n",
       "      <td>4</td>\n",
       "    </tr>\n",
       "    <tr>\n",
       "      <th>1</th>\n",
       "      <td>0</td>\n",
       "      <td>2</td>\n",
       "      <td>11</td>\n",
       "      <td>3</td>\n",
       "      <td>6</td>\n",
       "      <td>10</td>\n",
       "      <td>3</td>\n",
       "      <td>10</td>\n",
       "      <td>4</td>\n",
       "      <td>9</td>\n",
       "      <td>10</td>\n",
       "      <td>6</td>\n",
       "      <td>10</td>\n",
       "      <td>7</td>\n",
       "      <td>10</td>\n",
       "    </tr>\n",
       "    <tr>\n",
       "      <th>2</th>\n",
       "      <td>0</td>\n",
       "      <td>1</td>\n",
       "      <td>12</td>\n",
       "      <td>1</td>\n",
       "      <td>9</td>\n",
       "      <td>10</td>\n",
       "      <td>9</td>\n",
       "      <td>10</td>\n",
       "      <td>9</td>\n",
       "      <td>10</td>\n",
       "      <td>10</td>\n",
       "      <td>7</td>\n",
       "      <td>10</td>\n",
       "      <td>6</td>\n",
       "      <td>10</td>\n",
       "    </tr>\n",
       "    <tr>\n",
       "      <th>3</th>\n",
       "      <td>0</td>\n",
       "      <td>2</td>\n",
       "      <td>12</td>\n",
       "      <td>1</td>\n",
       "      <td>5</td>\n",
       "      <td>8</td>\n",
       "      <td>5</td>\n",
       "      <td>8</td>\n",
       "      <td>4</td>\n",
       "      <td>5</td>\n",
       "      <td>6</td>\n",
       "      <td>4</td>\n",
       "      <td>10</td>\n",
       "      <td>9</td>\n",
       "      <td>7</td>\n",
       "    </tr>\n",
       "    <tr>\n",
       "      <th>4</th>\n",
       "      <td>0</td>\n",
       "      <td>0</td>\n",
       "      <td>11</td>\n",
       "      <td>3</td>\n",
       "      <td>8</td>\n",
       "      <td>9</td>\n",
       "      <td>4</td>\n",
       "      <td>10</td>\n",
       "      <td>7</td>\n",
       "      <td>9</td>\n",
       "      <td>8</td>\n",
       "      <td>5</td>\n",
       "      <td>4</td>\n",
       "      <td>4</td>\n",
       "      <td>9</td>\n",
       "    </tr>\n",
       "    <tr>\n",
       "      <th>...</th>\n",
       "      <td>...</td>\n",
       "      <td>...</td>\n",
       "      <td>...</td>\n",
       "      <td>...</td>\n",
       "      <td>...</td>\n",
       "      <td>...</td>\n",
       "      <td>...</td>\n",
       "      <td>...</td>\n",
       "      <td>...</td>\n",
       "      <td>...</td>\n",
       "      <td>...</td>\n",
       "      <td>...</td>\n",
       "      <td>...</td>\n",
       "      <td>...</td>\n",
       "      <td>...</td>\n",
       "    </tr>\n",
       "    <tr>\n",
       "      <th>131332</th>\n",
       "      <td>1</td>\n",
       "      <td>2</td>\n",
       "      <td>12</td>\n",
       "      <td>1</td>\n",
       "      <td>7</td>\n",
       "      <td>10</td>\n",
       "      <td>10</td>\n",
       "      <td>9</td>\n",
       "      <td>10</td>\n",
       "      <td>10</td>\n",
       "      <td>10</td>\n",
       "      <td>3</td>\n",
       "      <td>6</td>\n",
       "      <td>10</td>\n",
       "      <td>10</td>\n",
       "    </tr>\n",
       "    <tr>\n",
       "      <th>131333</th>\n",
       "      <td>1</td>\n",
       "      <td>2</td>\n",
       "      <td>12</td>\n",
       "      <td>1</td>\n",
       "      <td>4</td>\n",
       "      <td>10</td>\n",
       "      <td>10</td>\n",
       "      <td>10</td>\n",
       "      <td>10</td>\n",
       "      <td>10</td>\n",
       "      <td>10</td>\n",
       "      <td>2</td>\n",
       "      <td>3</td>\n",
       "      <td>10</td>\n",
       "      <td>10</td>\n",
       "    </tr>\n",
       "    <tr>\n",
       "      <th>131334</th>\n",
       "      <td>1</td>\n",
       "      <td>2</td>\n",
       "      <td>14</td>\n",
       "      <td>1</td>\n",
       "      <td>4</td>\n",
       "      <td>4</td>\n",
       "      <td>9</td>\n",
       "      <td>5</td>\n",
       "      <td>4</td>\n",
       "      <td>3</td>\n",
       "      <td>8</td>\n",
       "      <td>4</td>\n",
       "      <td>7</td>\n",
       "      <td>10</td>\n",
       "      <td>10</td>\n",
       "    </tr>\n",
       "    <tr>\n",
       "      <th>131335</th>\n",
       "      <td>1</td>\n",
       "      <td>2</td>\n",
       "      <td>14</td>\n",
       "      <td>1</td>\n",
       "      <td>2</td>\n",
       "      <td>1</td>\n",
       "      <td>10</td>\n",
       "      <td>1</td>\n",
       "      <td>10</td>\n",
       "      <td>9</td>\n",
       "      <td>8</td>\n",
       "      <td>3</td>\n",
       "      <td>6</td>\n",
       "      <td>7</td>\n",
       "      <td>10</td>\n",
       "    </tr>\n",
       "    <tr>\n",
       "      <th>131336</th>\n",
       "      <td>1</td>\n",
       "      <td>2</td>\n",
       "      <td>0</td>\n",
       "      <td>0</td>\n",
       "      <td>6</td>\n",
       "      <td>1</td>\n",
       "      <td>7</td>\n",
       "      <td>1</td>\n",
       "      <td>10</td>\n",
       "      <td>10</td>\n",
       "      <td>5</td>\n",
       "      <td>3</td>\n",
       "      <td>4</td>\n",
       "      <td>9</td>\n",
       "      <td>10</td>\n",
       "    </tr>\n",
       "  </tbody>\n",
       "</table>\n",
       "<p>131337 rows × 15 columns</p>\n",
       "</div>"
      ],
      "text/plain": [
       "        Target  gender  car_model  car_segment  age_of_vehicle_years  \\\n",
       "0            0       1          0            0                     9   \n",
       "1            0       2         11            3                     6   \n",
       "2            0       1         12            1                     9   \n",
       "3            0       2         12            1                     5   \n",
       "4            0       0         11            3                     8   \n",
       "...        ...     ...        ...          ...                   ...   \n",
       "131332       1       2         12            1                     7   \n",
       "131333       1       2         12            1                     4   \n",
       "131334       1       2         14            1                     4   \n",
       "131335       1       2         14            1                     2   \n",
       "131336       1       2          0            0                     6   \n",
       "\n",
       "        sched_serv_warr  non_sched_serv_warr  sched_serv_paid  \\\n",
       "0                     2                   10                3   \n",
       "1                    10                    3               10   \n",
       "2                    10                    9               10   \n",
       "3                     8                    5                8   \n",
       "4                     9                    4               10   \n",
       "...                 ...                  ...              ...   \n",
       "131332               10                   10                9   \n",
       "131333               10                   10               10   \n",
       "131334                4                    9                5   \n",
       "131335                1                   10                1   \n",
       "131336                1                    7                1   \n",
       "\n",
       "        non_sched_serv_paid  total_paid_services  total_services  \\\n",
       "0                         7                    5               6   \n",
       "1                         4                    9              10   \n",
       "2                         9                   10              10   \n",
       "3                         4                    5               6   \n",
       "4                         7                    9               8   \n",
       "...                     ...                  ...             ...   \n",
       "131332                   10                   10              10   \n",
       "131333                   10                   10              10   \n",
       "131334                    4                    3               8   \n",
       "131335                   10                    9               8   \n",
       "131336                   10                   10               5   \n",
       "\n",
       "        mth_since_last_serv  annualised_mileage  num_dealers_visited  \\\n",
       "0                         9                   8                   10   \n",
       "1                         6                  10                    7   \n",
       "2                         7                  10                    6   \n",
       "3                         4                  10                    9   \n",
       "4                         5                   4                    4   \n",
       "...                     ...                 ...                  ...   \n",
       "131332                    3                   6                   10   \n",
       "131333                    2                   3                   10   \n",
       "131334                    4                   7                   10   \n",
       "131335                    3                   6                    7   \n",
       "131336                    3                   4                    9   \n",
       "\n",
       "        num_serv_dealer_purchased  \n",
       "0                               4  \n",
       "1                              10  \n",
       "2                              10  \n",
       "3                               7  \n",
       "4                               9  \n",
       "...                           ...  \n",
       "131332                         10  \n",
       "131333                         10  \n",
       "131334                         10  \n",
       "131335                         10  \n",
       "131336                         10  \n",
       "\n",
       "[131337 rows x 15 columns]"
      ]
     },
     "execution_count": 25,
     "metadata": {},
     "output_type": "execute_result"
    }
   ],
   "source": [
    "df"
   ]
  },
  {
   "cell_type": "markdown",
   "id": "85d73e8e-e295-413d-bc53-d6e4e2ddac06",
   "metadata": {
    "tags": []
   },
   "source": [
    "# 4. Feature Selection"
   ]
  },
  {
   "cell_type": "markdown",
   "id": "c600695d-c349-49a1-9385-b508f2d8a5aa",
   "metadata": {},
   "source": [
    "<p style=\"font-size:18px;\">\n",
    "    Selecting top features using chi-square\n",
    "</p>"
   ]
  },
  {
   "cell_type": "code",
   "execution_count": 32,
   "id": "b813067b-f99e-468e-bcf3-4950d61c0fb9",
   "metadata": {},
   "outputs": [],
   "source": [
    "selector = SelectKBest(chi2, k=5)\n",
    "X_new = selector.fit_transform(df.drop('Target',axis=1), df['Target'])"
   ]
  },
  {
   "cell_type": "code",
   "execution_count": 33,
   "id": "f2681b6b-9d9f-4486-8bdf-3a2e2a4c2d85",
   "metadata": {},
   "outputs": [],
   "source": [
    "selected_features = selector.get_support(indices=True)"
   ]
  },
  {
   "cell_type": "code",
   "execution_count": 35,
   "id": "2137c5f9-a271-4627-8d23-b66705234dd1",
   "metadata": {},
   "outputs": [],
   "source": [
    "selected_feature_names = df.drop('Target',axis=1).columns[selected_features]\n"
   ]
  },
  {
   "cell_type": "code",
   "execution_count": 36,
   "id": "b1362443-dfc2-44f0-a615-6eb2760dafae",
   "metadata": {},
   "outputs": [
    {
     "data": {
      "text/plain": [
       "Index(['age_of_vehicle_years', 'sched_serv_warr', 'sched_serv_paid',\n",
       "       'total_services', 'mth_since_last_serv'],\n",
       "      dtype='object')"
      ]
     },
     "execution_count": 36,
     "metadata": {},
     "output_type": "execute_result"
    }
   ],
   "source": [
    "selected_feature_names"
   ]
  },
  {
   "cell_type": "code",
   "execution_count": 37,
   "id": "493564c6-f74c-426a-852b-92c8aae701a2",
   "metadata": {},
   "outputs": [],
   "source": [
    "df=df[['Target','age_of_vehicle_years','sched_serv_warr','sched_serv_paid','total_services','mth_since_last_serv']]"
   ]
  },
  {
   "cell_type": "code",
   "execution_count": 38,
   "id": "b4a9bbdb-ea33-4782-ba2f-94923e99818c",
   "metadata": {},
   "outputs": [
    {
     "data": {
      "text/html": [
       "<div>\n",
       "<style scoped>\n",
       "    .dataframe tbody tr th:only-of-type {\n",
       "        vertical-align: middle;\n",
       "    }\n",
       "\n",
       "    .dataframe tbody tr th {\n",
       "        vertical-align: top;\n",
       "    }\n",
       "\n",
       "    .dataframe thead th {\n",
       "        text-align: right;\n",
       "    }\n",
       "</style>\n",
       "<table border=\"1\" class=\"dataframe\">\n",
       "  <thead>\n",
       "    <tr style=\"text-align: right;\">\n",
       "      <th></th>\n",
       "      <th>Target</th>\n",
       "      <th>age_of_vehicle_years</th>\n",
       "      <th>sched_serv_warr</th>\n",
       "      <th>sched_serv_paid</th>\n",
       "      <th>total_services</th>\n",
       "      <th>mth_since_last_serv</th>\n",
       "    </tr>\n",
       "  </thead>\n",
       "  <tbody>\n",
       "    <tr>\n",
       "      <th>0</th>\n",
       "      <td>0</td>\n",
       "      <td>9</td>\n",
       "      <td>2</td>\n",
       "      <td>3</td>\n",
       "      <td>6</td>\n",
       "      <td>9</td>\n",
       "    </tr>\n",
       "    <tr>\n",
       "      <th>1</th>\n",
       "      <td>0</td>\n",
       "      <td>6</td>\n",
       "      <td>10</td>\n",
       "      <td>10</td>\n",
       "      <td>10</td>\n",
       "      <td>6</td>\n",
       "    </tr>\n",
       "    <tr>\n",
       "      <th>2</th>\n",
       "      <td>0</td>\n",
       "      <td>9</td>\n",
       "      <td>10</td>\n",
       "      <td>10</td>\n",
       "      <td>10</td>\n",
       "      <td>7</td>\n",
       "    </tr>\n",
       "    <tr>\n",
       "      <th>3</th>\n",
       "      <td>0</td>\n",
       "      <td>5</td>\n",
       "      <td>8</td>\n",
       "      <td>8</td>\n",
       "      <td>6</td>\n",
       "      <td>4</td>\n",
       "    </tr>\n",
       "    <tr>\n",
       "      <th>4</th>\n",
       "      <td>0</td>\n",
       "      <td>8</td>\n",
       "      <td>9</td>\n",
       "      <td>10</td>\n",
       "      <td>8</td>\n",
       "      <td>5</td>\n",
       "    </tr>\n",
       "    <tr>\n",
       "      <th>...</th>\n",
       "      <td>...</td>\n",
       "      <td>...</td>\n",
       "      <td>...</td>\n",
       "      <td>...</td>\n",
       "      <td>...</td>\n",
       "      <td>...</td>\n",
       "    </tr>\n",
       "    <tr>\n",
       "      <th>131332</th>\n",
       "      <td>1</td>\n",
       "      <td>7</td>\n",
       "      <td>10</td>\n",
       "      <td>9</td>\n",
       "      <td>10</td>\n",
       "      <td>3</td>\n",
       "    </tr>\n",
       "    <tr>\n",
       "      <th>131333</th>\n",
       "      <td>1</td>\n",
       "      <td>4</td>\n",
       "      <td>10</td>\n",
       "      <td>10</td>\n",
       "      <td>10</td>\n",
       "      <td>2</td>\n",
       "    </tr>\n",
       "    <tr>\n",
       "      <th>131334</th>\n",
       "      <td>1</td>\n",
       "      <td>4</td>\n",
       "      <td>4</td>\n",
       "      <td>5</td>\n",
       "      <td>8</td>\n",
       "      <td>4</td>\n",
       "    </tr>\n",
       "    <tr>\n",
       "      <th>131335</th>\n",
       "      <td>1</td>\n",
       "      <td>2</td>\n",
       "      <td>1</td>\n",
       "      <td>1</td>\n",
       "      <td>8</td>\n",
       "      <td>3</td>\n",
       "    </tr>\n",
       "    <tr>\n",
       "      <th>131336</th>\n",
       "      <td>1</td>\n",
       "      <td>6</td>\n",
       "      <td>1</td>\n",
       "      <td>1</td>\n",
       "      <td>5</td>\n",
       "      <td>3</td>\n",
       "    </tr>\n",
       "  </tbody>\n",
       "</table>\n",
       "<p>131337 rows × 6 columns</p>\n",
       "</div>"
      ],
      "text/plain": [
       "        Target  age_of_vehicle_years  sched_serv_warr  sched_serv_paid  \\\n",
       "0            0                     9                2                3   \n",
       "1            0                     6               10               10   \n",
       "2            0                     9               10               10   \n",
       "3            0                     5                8                8   \n",
       "4            0                     8                9               10   \n",
       "...        ...                   ...              ...              ...   \n",
       "131332       1                     7               10                9   \n",
       "131333       1                     4               10               10   \n",
       "131334       1                     4                4                5   \n",
       "131335       1                     2                1                1   \n",
       "131336       1                     6                1                1   \n",
       "\n",
       "        total_services  mth_since_last_serv  \n",
       "0                    6                    9  \n",
       "1                   10                    6  \n",
       "2                   10                    7  \n",
       "3                    6                    4  \n",
       "4                    8                    5  \n",
       "...                ...                  ...  \n",
       "131332              10                    3  \n",
       "131333              10                    2  \n",
       "131334               8                    4  \n",
       "131335               8                    3  \n",
       "131336               5                    3  \n",
       "\n",
       "[131337 rows x 6 columns]"
      ]
     },
     "execution_count": 38,
     "metadata": {},
     "output_type": "execute_result"
    }
   ],
   "source": [
    "df"
   ]
  },
  {
   "cell_type": "markdown",
   "id": "9a322b8e-50d2-433f-8802-dda3ee7e3bfb",
   "metadata": {},
   "source": [
    "## Checking feature's association with the Target variable using Cramer's V"
   ]
  },
  {
   "cell_type": "markdown",
   "id": "7e641799-ba26-45d4-9bf0-33bb71041eaa",
   "metadata": {},
   "source": [
    "<p style=\"font-size:18px;\">\n",
    "    None of the features above show a high association with the target variable as the Cramer's V is less than 0.5 for all\n",
    "</p>"
   ]
  },
  {
   "cell_type": "code",
   "execution_count": 44,
   "id": "7ce3b90c-bd3b-4169-9f83-404a9dac5bd6",
   "metadata": {},
   "outputs": [
    {
     "name": "stdout",
     "output_type": "stream",
     "text": [
      "Cramer's V for age_of_vehicle_years: 0.14127066010635264\n",
      "Cramer's V for sched_serv_warr: 0.20831948084928478\n",
      "Cramer's V for sched_serv_paid: 0.19780823766602512\n",
      "Cramer's V for total_services: 0.205533865172324\n",
      "Cramer's V for mth_since_last_serv: 0.1618611072485944\n"
     ]
    }
   ],
   "source": [
    "for x in ['age_of_vehicle_years','sched_serv_warr','sched_serv_paid','total_services','mth_since_last_serv']: \n",
    "    # create a contingency table of the two variables\n",
    "    cont_table = pd.crosstab(df['Target'], df[x])\n",
    "\n",
    "    # compute the chi-squared test statistic and p-value\n",
    "    chi2_stat, p_val, dof, exp_freq = chi2_contingency(cont_table)\n",
    "\n",
    "    # compute the Cramer's V measure from the chi-squared test statistic\n",
    "    n_obs = df.shape[0]\n",
    "    n_cells = cont_table.size\n",
    "    v_cramer = np.sqrt(chi2_stat / (n_obs * (min(n_cells, 2) - 1)))\n",
    "\n",
    "    print('Cramer\\'s V for {}:'.format(x), v_cramer)"
   ]
  },
  {
   "cell_type": "markdown",
   "id": "878e27b4-8a1b-4932-852e-cf936b1ed5af",
   "metadata": {
    "tags": []
   },
   "source": [
    "# 5. Initial Data Visualisation "
   ]
  },
  {
   "cell_type": "markdown",
   "id": "7f8c53ee-b6ea-4c83-9334-98e4855f475c",
   "metadata": {},
   "source": [
    "<p style=\"font-size:18px;\">\n",
    "    The grouped bar chart below displays different categories of a feature with each set of bars representing a specific category, and each bar within the set indicating the target value associated to that category.\n",
    "</p>"
   ]
  },
  {
   "cell_type": "code",
   "execution_count": 45,
   "id": "0afdc402-0310-4e87-8db7-b5350a67e591",
   "metadata": {},
   "outputs": [],
   "source": [
    "X=df.drop('Target',axis=1)"
   ]
  },
  {
   "cell_type": "code",
   "execution_count": 46,
   "id": "ddb6ab95-17e3-4b4e-a9fe-43086d0fc091",
   "metadata": {},
   "outputs": [],
   "source": [
    "assert X.shape==(131337, 5)"
   ]
  },
  {
   "cell_type": "code",
   "execution_count": 47,
   "id": "b2fb468f-fa76-497e-aaac-c617af5ed118",
   "metadata": {
    "scrolled": true,
    "tags": []
   },
   "outputs": [
    {
     "data": {
      "image/png": "[encoded data removed]",
      "text/plain": [
       "<Figure size 640x480 with 1 Axes>"
      ]
     },
     "metadata": {},
     "output_type": "display_data"
    },
    {
     "data": {
      "image/png": "[encoded data removed]",
      "text/plain": [
       "<Figure size 640x480 with 1 Axes>"
      ]
     },
     "metadata": {},
     "output_type": "display_data"
    },
    {
     "data": {
      "image/png": "[encoded data removed]",
      "text/plain": [
       "<Figure size 640x480 with 1 Axes>"
      ]
     },
     "metadata": {},
     "output_type": "display_data"
    },
    {
     "data": {
      "image/png": "[encoded data removed]",
      "text/plain": [
       "<Figure size 640x480 with 1 Axes>"
      ]
     },
     "metadata": {},
     "output_type": "display_data"
    },
    {
     "data": {
      "image/png": "[encoded data removed]",
      "text/plain": [
       "<Figure size 640x480 with 1 Axes>"
      ]
     },
     "metadata": {},
     "output_type": "display_data"
    }
   ],
   "source": [
    "for col in X:\n",
    "    df_serv=pd.DataFrame(df[df.Target==0].groupby(by=col).count().Target)\n",
    "    df_serv.columns=[ 'Will not buy']\n",
    "    df_serv['Will buy']=df[df.Target==1].groupby(by=col).count().Target\n",
    "    df_serv.plot(kind='bar')"
   ]
  },
  {
   "cell_type": "markdown",
   "id": "18289468-6e5e-4330-ad55-cfc7e8deb1db",
   "metadata": {
    "tags": []
   },
   "source": [
    "# 6. Train Test Split"
   ]
  },
  {
   "cell_type": "code",
   "execution_count": 48,
   "id": "364f63c0-42d7-4276-a77f-7862b4fb68a4",
   "metadata": {},
   "outputs": [],
   "source": [
    "X=df.drop('Target',axis=1)\n",
    "y=df.Target"
   ]
  },
  {
   "cell_type": "code",
   "execution_count": 49,
   "id": "05f08972-65fe-4f25-b9a8-bf15f3570394",
   "metadata": {},
   "outputs": [],
   "source": [
    "assert X.shape==(131337, 5)\n",
    "assert y.shape==(131337, )"
   ]
  },
  {
   "cell_type": "code",
   "execution_count": 50,
   "id": "530f646f-c6e4-4848-8f2b-55b3de04d2b4",
   "metadata": {},
   "outputs": [],
   "source": [
    "X_train, X_test, y_train, y_test = train_test_split(X, y, test_size=0.33, random_state=42)"
   ]
  },
  {
   "cell_type": "code",
   "execution_count": 51,
   "id": "63f9cf3d-348d-42ea-8734-55c83add02ee",
   "metadata": {},
   "outputs": [],
   "source": [
    "assert X_train.shape==(87995, 5)\n",
    "assert y_train.shape==(87995,)\n",
    "assert X_test.shape==(43342, 5)\n",
    "assert y_test.shape==(43342,)"
   ]
  },
  {
   "cell_type": "markdown",
   "id": "18e8bdf6-c332-47f0-80c9-4fea9c27bf5d",
   "metadata": {
    "tags": []
   },
   "source": [
    "# 7. Handling the class imbalance"
   ]
  },
  {
   "cell_type": "markdown",
   "id": "1f3365d1-81ba-4d9b-b41f-d2bc21ae9a6e",
   "metadata": {},
   "source": [
    "<p style=\"font-size:18px;\">\n",
    "    SMOTE is a technique used here to generate synthetic samples for the minority class by interpolating between neighboring examples. This helps to balance the distribution of classes and improve the performance of the model.\n",
    "</p>"
   ]
  },
  {
   "cell_type": "code",
   "execution_count": 52,
   "id": "31ee1028-ba38-4ede-b079-9e894e56e7fb",
   "metadata": {},
   "outputs": [
    {
     "data": {
      "text/plain": [
       "0    85622\n",
       "1     2373\n",
       "Name: Target, dtype: int64"
      ]
     },
     "execution_count": 52,
     "metadata": {},
     "output_type": "execute_result"
    }
   ],
   "source": [
    "y_train.value_counts()"
   ]
  },
  {
   "cell_type": "code",
   "execution_count": 53,
   "id": "848d66fa-1769-432a-8495-600fb7ba8d55",
   "metadata": {},
   "outputs": [
    {
     "data": {
      "image/png": "[encoded data removed]",
      "text/plain": [
       "<Figure size 640x480 with 1 Axes>"
      ]
     },
     "metadata": {},
     "output_type": "display_data"
    }
   ],
   "source": [
    "plt.pie(y_train.value_counts(),labels=['Will not buy','Will buy'])\n",
    "plt.show()"
   ]
  },
  {
   "cell_type": "code",
   "execution_count": 54,
   "id": "e6b2fe7f-5c4d-41e1-9037-34c1223fcc09",
   "metadata": {},
   "outputs": [],
   "source": [
    "sm = SMOTE(random_state=42)"
   ]
  },
  {
   "cell_type": "code",
   "execution_count": 55,
   "id": "6113c5c2-86c8-4379-a885-d696dbf5e80c",
   "metadata": {},
   "outputs": [],
   "source": [
    "X_train_sm, y_train_sm = sm.fit_resample(X_train, y_train)"
   ]
  },
  {
   "cell_type": "code",
   "execution_count": 56,
   "id": "583b70ab-b35a-409b-b0a6-773ce6e2289c",
   "metadata": {},
   "outputs": [
    {
     "data": {
      "text/plain": [
       "0    85622\n",
       "1    85622\n",
       "Name: Target, dtype: int64"
      ]
     },
     "execution_count": 56,
     "metadata": {},
     "output_type": "execute_result"
    }
   ],
   "source": [
    "y_train_sm.value_counts()"
   ]
  },
  {
   "cell_type": "code",
   "execution_count": 57,
   "id": "f0347022-58b1-490d-a390-8f4bf1f70426",
   "metadata": {},
   "outputs": [
    {
     "data": {
      "image/png": "[encoded data removed]",
      "text/plain": [
       "<Figure size 640x480 with 1 Axes>"
      ]
     },
     "metadata": {},
     "output_type": "display_data"
    }
   ],
   "source": [
    "plt.pie(y_train_sm.value_counts(),labels=['Will not buy','Will buy'])\n",
    "plt.show()"
   ]
  },
  {
   "cell_type": "markdown",
   "id": "72077bb0-5400-4af0-b6c1-5a666aef96f6",
   "metadata": {
    "tags": []
   },
   "source": [
    "# 8. Final Data Visualisation"
   ]
  },
  {
   "cell_type": "markdown",
   "id": "8f33c7af-39f8-4b28-99ee-36ac6b9338c3",
   "metadata": {},
   "source": [
    "<p style=\"font-size:18px;\">\n",
    "    The grouped bar chart below displays different categories of a feature with each set of bars representing a specific category, and each bar within the set indicating the target value associated to that category.\n",
    "</p>"
   ]
  },
  {
   "cell_type": "code",
   "execution_count": 58,
   "id": "73c98eb4-06bb-4940-9f66-ddcd3cbe4c16",
   "metadata": {},
   "outputs": [],
   "source": [
    "df2_train=X_train_sm.copy()\n",
    "df2_train['Target']=y_train_sm"
   ]
  },
  {
   "cell_type": "code",
   "execution_count": 59,
   "id": "bdaa82a9-0420-48b1-b77d-4f0ac59e5c53",
   "metadata": {
    "scrolled": true,
    "tags": []
   },
   "outputs": [
    {
     "data": {
      "image/png": "[encoded data removed]",
      "text/plain": [
       "<Figure size 640x480 with 1 Axes>"
      ]
     },
     "metadata": {},
     "output_type": "display_data"
    },
    {
     "data": {
      "image/png": "[encoded data removed]",
      "text/plain": [
       "<Figure size 640x480 with 1 Axes>"
      ]
     },
     "metadata": {},
     "output_type": "display_data"
    },
    {
     "data": {
      "image/png": "[encoded data removed]",
      "text/plain": [
       "<Figure size 640x480 with 1 Axes>"
      ]
     },
     "metadata": {},
     "output_type": "display_data"
    },
    {
     "data": {
      "image/png": "[encoded data removed]",
      "text/plain": [
       "<Figure size 640x480 with 1 Axes>"
      ]
     },
     "metadata": {},
     "output_type": "display_data"
    },
    {
     "data": {
      "image/png": "[encoded data removed]",
      "text/plain": [
       "<Figure size 640x480 with 1 Axes>"
      ]
     },
     "metadata": {},
     "output_type": "display_data"
    }
   ],
   "source": [
    "for col in X:\n",
    "    df_serv=pd.DataFrame(df2_train[df2_train.Target==0].groupby(by=col).count().Target)\n",
    "    df_serv.columns=[ 'Will not buy']\n",
    "    df_serv['Will buy']=df2_train[df2_train.Target==1].groupby(by=col).count().Target\n",
    "    df_serv.plot(kind='bar')\n"
   ]
  },
  {
   "cell_type": "markdown",
   "id": "4b3e9dd2-c15a-4683-bbaf-d9573aa559f0",
   "metadata": {
    "tags": []
   },
   "source": [
    "# 9. Feature Scaling"
   ]
  },
  {
   "cell_type": "markdown",
   "id": "468acf51-ab25-4dc3-bb8c-f0d5ab45ce36",
   "metadata": {},
   "source": [
    "<p style=\"font-size:18px;\">\n",
    "   Feature scaling to bring all the features of the dataset to a similar scale or range of values.\n",
    "</p>"
   ]
  },
  {
   "cell_type": "code",
   "execution_count": 60,
   "id": "782593e4-82aa-41f6-bf46-467d953ba2e6",
   "metadata": {},
   "outputs": [
    {
     "name": "stderr",
     "output_type": "stream",
     "text": [
      "/var/folders/0h/j84rsdwd49jbw1_d04_c5b3r0000gn/T/ipykernel_76685/2812475265.py:2: FutureWarning: The frame.append method is deprecated and will be removed from pandas in a future version. Use pandas.concat instead.\n",
      "  scaler = preprocessing.StandardScaler().fit(X_train_sm.append(X_test))\n"
     ]
    }
   ],
   "source": [
    "# Feature Scaling using Standardization: range [0,1]\n",
    "scaler = preprocessing.StandardScaler().fit(X_train_sm.append(X_test))\n",
    "X_train_sm = scaler.transform(X_train_sm)\n",
    "X_test = scaler.transform(X_test)"
   ]
  },
  {
   "cell_type": "code",
   "execution_count": 61,
   "id": "b99e9e77-07a8-427e-95f9-55650327341c",
   "metadata": {},
   "outputs": [],
   "source": [
    "assert isinstance(X_train_sm, np.ndarray)\n",
    "assert isinstance(X_test, np.ndarray)"
   ]
  },
  {
   "cell_type": "markdown",
   "id": "1f906d68-626e-46cf-a850-80a3ca601c3e",
   "metadata": {
    "tags": []
   },
   "source": [
    "# 10. Modelling and Evaluation"
   ]
  },
  {
   "cell_type": "code",
   "execution_count": 62,
   "id": "184c5bb2-a80d-46cf-82e8-3e01d61671e4",
   "metadata": {},
   "outputs": [],
   "source": [
    "lr_model = LogisticRegression(random_state=0).fit(X_train_sm, y_train_sm)"
   ]
  },
  {
   "cell_type": "code",
   "execution_count": 63,
   "id": "4bb9c49d-6a35-45ca-89bf-257d54c78168",
   "metadata": {},
   "outputs": [],
   "source": [
    "y_pred=lr_model.predict(X_train_sm)"
   ]
  },
  {
   "cell_type": "code",
   "execution_count": 64,
   "id": "37a7d348-6242-470f-8b4b-bde68b58353f",
   "metadata": {},
   "outputs": [
    {
     "data": {
      "text/plain": [
       "0.850943682698372"
      ]
     },
     "execution_count": 64,
     "metadata": {},
     "output_type": "execute_result"
    }
   ],
   "source": [
    "accuracy_score(y_train_sm, y_pred)"
   ]
  },
  {
   "cell_type": "code",
   "execution_count": 65,
   "id": "7b96f770-f4ed-455b-a434-984bdc2c8e6d",
   "metadata": {
    "scrolled": true,
    "tags": []
   },
   "outputs": [],
   "source": [
    "score={}\n",
    "score['Training']=accuracy_score(y_train_sm, y_pred)"
   ]
  },
  {
   "cell_type": "code",
   "execution_count": 66,
   "id": "e13050a9-815f-43b3-a23e-5c2d0f60e3f2",
   "metadata": {},
   "outputs": [],
   "source": [
    "y_pred=lr_model.predict(X_test)"
   ]
  },
  {
   "cell_type": "code",
   "execution_count": 67,
   "id": "01ff6b8d-da4a-4d57-b2e7-9de8d77b1076",
   "metadata": {},
   "outputs": [
    {
     "data": {
      "text/plain": [
       "0.7795440911817636"
      ]
     },
     "execution_count": 67,
     "metadata": {},
     "output_type": "execute_result"
    }
   ],
   "source": [
    "accuracy_score(y_test, y_pred)"
   ]
  },
  {
   "cell_type": "code",
   "execution_count": 68,
   "id": "e39816b9-6266-4e89-b5ba-0e8eaef948d4",
   "metadata": {},
   "outputs": [],
   "source": [
    "score['Testing']=accuracy_score(y_test, y_pred)"
   ]
  },
  {
   "cell_type": "markdown",
   "id": "2be4fa3e-c1d8-4206-b90c-08ca69d59f15",
   "metadata": {},
   "source": [
    "<p style=\"font-size:18px;\">\n",
    "    The bar graph below demonstrates that training and testing accuracy for logistic regression classification\n",
    "</p>"
   ]
  },
  {
   "cell_type": "code",
   "execution_count": 69,
   "id": "f5530a6a-5e1b-445a-a301-cdd97e7ab6ee",
   "metadata": {},
   "outputs": [
    {
     "data": {
      "image/png": "[encoded data removed]",
      "text/plain": [
       "<Figure size 1000x500 with 1 Axes>"
      ]
     },
     "metadata": {},
     "output_type": "display_data"
    }
   ],
   "source": [
    "fig = plt.figure(figsize = (10, 5))\n",
    "# creating the bar plot\n",
    "plt.bar(score.keys(), score.values(), color ='maroon',\n",
    "        width = 0.4)\n",
    "plt.xlabel(\"Dataset Type\")\n",
    "plt.ylabel(\"Accuracy\")\n",
    "plt.title('Accuracy for different datasets')\n",
    "plt.show()"
   ]
  },
  {
   "cell_type": "markdown",
   "id": "a2c0a382-1dcc-4d63-9653-8a759f72d589",
   "metadata": {},
   "source": [
    "<p style=\"font-size:18px;\">\n",
    "    According to the classification report f-1 Score for positive class is insignificant\n",
    "</p>"
   ]
  },
  {
   "cell_type": "markdown",
   "id": "b8670f5c-5b9a-4628-9b80-298672870a72",
   "metadata": {},
   "source": [
    "<p style=\"font-size:18px;\">\n",
    "    The precision value is less for the positive class and it suggests that a significant number of instances predicted to be positive for this class are actually false positives.\n",
    "</p>"
   ]
  },
  {
   "cell_type": "code",
   "execution_count": 70,
   "id": "2296fdf2-8cb0-4933-95a2-5fc87f4baced",
   "metadata": {},
   "outputs": [
    {
     "name": "stdout",
     "output_type": "stream",
     "text": [
      "                precision    recall  f1-score   support\n",
      "\n",
      "Will not rebuy       1.00      0.78      0.87     42194\n",
      "    Will rebuy       0.10      0.88      0.17      1148\n",
      "\n",
      "      accuracy                           0.78     43342\n",
      "     macro avg       0.55      0.83      0.52     43342\n",
      "  weighted avg       0.97      0.78      0.85     43342\n",
      "\n"
     ]
    }
   ],
   "source": [
    "print(classification_report(y_test, y_pred, target_names=['Will not rebuy','Will rebuy']))"
   ]
  },
  {
   "cell_type": "markdown",
   "id": "82e1a472-31c5-401e-960e-de9ce78b909e",
   "metadata": {
    "tags": []
   },
   "source": [
    "## Checking feature importance for logistic regression"
   ]
  },
  {
   "cell_type": "markdown",
   "id": "d8faad2e-066f-40ed-8b30-b38ecb4844bf",
   "metadata": {},
   "source": [
    "<p style=\"font-size:18px;\">\n",
    "    sched_serv_warr has the highest magnitude coef value and 0 p-value so it is the most important feature for prediction\n",
    "</p>"
   ]
  },
  {
   "cell_type": "code",
   "execution_count": 74,
   "id": "faa77e11-d27e-409b-8294-8dcf7c86c79d",
   "metadata": {},
   "outputs": [
    {
     "name": "stdout",
     "output_type": "stream",
     "text": [
      "Optimization terminated successfully.\n",
      "         Current function value: 0.417723\n",
      "         Iterations 7\n",
      "                           Logit Regression Results                           \n",
      "==============================================================================\n",
      "Dep. Variable:                 Target   No. Observations:               171244\n",
      "Model:                          Logit   Df Residuals:                   171238\n",
      "Method:                           MLE   Df Model:                            5\n",
      "Date:                Wed, 26 Apr 2023   Pseudo R-squ.:                  0.3974\n",
      "Time:                        22:51:31   Log-Likelihood:                -71533.\n",
      "converged:                       True   LL-Null:                   -1.1870e+05\n",
      "Covariance Type:            nonrobust   LLR p-value:                     0.000\n",
      "========================================================================================\n",
      "                           coef    std err          z      P>|z|      [0.025      0.975]\n",
      "----------------------------------------------------------------------------------------\n",
      "const                   -0.6317      0.008    -74.604      0.000      -0.648      -0.615\n",
      "age_of_vehicle_years    -0.1474      0.009    -15.613      0.000      -0.166      -0.129\n",
      "sched_serv_warr         -1.0309      0.019    -55.177      0.000      -1.067      -0.994\n",
      "sched_serv_paid         -0.5871      0.017    -34.732      0.000      -0.620      -0.554\n",
      "total_services          -0.1966      0.014    -14.417      0.000      -0.223      -0.170\n",
      "mth_since_last_serv     -0.7482      0.009    -82.018      0.000      -0.766      -0.730\n",
      "========================================================================================\n"
     ]
    }
   ],
   "source": [
    "X_obs = sms.add_constant(pd.DataFrame(X_train_sm,columns=X.columns)) # add a constant intercept term\n",
    "model = sms.Logit(y_train_sm, X_obs)\n",
    "result = model.fit()\n",
    "\n",
    "# print the summary table with coefficient and p-value information\n",
    "print(result.summary())"
   ]
  },
  {
   "cell_type": "markdown",
   "id": "7e01d900-e973-4c5d-84e9-85a30febbd36",
   "metadata": {},
   "source": [
    "<p style=\"font-size:18px;\">\n",
    "    List of hyperparameters of the logistic regression model\n",
    "</p>"
   ]
  },
  {
   "cell_type": "code",
   "execution_count": 75,
   "id": "de915731-5f49-4513-978a-895b26483eeb",
   "metadata": {},
   "outputs": [
    {
     "data": {
      "text/plain": [
       "{'C': 1.0,\n",
       " 'class_weight': None,\n",
       " 'dual': False,\n",
       " 'fit_intercept': True,\n",
       " 'intercept_scaling': 1,\n",
       " 'l1_ratio': None,\n",
       " 'max_iter': 100,\n",
       " 'multi_class': 'auto',\n",
       " 'n_jobs': None,\n",
       " 'penalty': 'l2',\n",
       " 'random_state': 0,\n",
       " 'solver': 'lbfgs',\n",
       " 'tol': 0.0001,\n",
       " 'verbose': 0,\n",
       " 'warm_start': False}"
      ]
     },
     "execution_count": 75,
     "metadata": {},
     "output_type": "execute_result"
    }
   ],
   "source": [
    "lr_model.get_params()\n"
   ]
  }
 ],
 "metadata": {
  "kernelspec": {
   "display_name": "ml_env",
   "language": "python",
   "name": "ml_env"
  },
  "language_info": {
   "codemirror_mode": {
    "name": "ipython",
    "version": 3
   },
   "file_extension": ".py",
   "mimetype": "text/x-python",
   "name": "python",
   "nbconvert_exporter": "python",
   "pygments_lexer": "ipython3",
   "version": "3.8.2"
  }
 },
 "nbformat": 4,
 "nbformat_minor": 5
}
